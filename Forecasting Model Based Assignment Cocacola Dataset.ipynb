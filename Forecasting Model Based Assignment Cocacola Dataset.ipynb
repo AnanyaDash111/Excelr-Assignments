{
 "cells": [
  {
   "cell_type": "code",
   "execution_count": 1,
   "metadata": {},
   "outputs": [],
   "source": [
    "from pandas import read_csv\n",
    "from matplotlib import pyplot\n",
    "from numpy import sqrt\n",
    "import warnings\n",
    "import itertools\n",
    "import pandas as pd\n",
    "import numpy as np\n",
    "import matplotlib.pyplot as plt\n",
    "import statsmodels.api as sm\n",
    "import statsmodels.formula.api as snf"
   ]
  },
  {
   "cell_type": "code",
   "execution_count": 2,
   "metadata": {},
   "outputs": [],
   "source": [
    "coca=pd.read_excel(\"C:\\\\Users\\\\Admin\\\\Downloads\\\\CocaCola_Sales_Rawdata.xlsx\")"
   ]
  },
  {
   "cell_type": "code",
   "execution_count": 3,
   "metadata": {},
   "outputs": [
    {
     "data": {
      "text/html": [
       "<div>\n",
       "<style scoped>\n",
       "    .dataframe tbody tr th:only-of-type {\n",
       "        vertical-align: middle;\n",
       "    }\n",
       "\n",
       "    .dataframe tbody tr th {\n",
       "        vertical-align: top;\n",
       "    }\n",
       "\n",
       "    .dataframe thead th {\n",
       "        text-align: right;\n",
       "    }\n",
       "</style>\n",
       "<table border=\"1\" class=\"dataframe\">\n",
       "  <thead>\n",
       "    <tr style=\"text-align: right;\">\n",
       "      <th></th>\n",
       "      <th>Quarter</th>\n",
       "      <th>Sales</th>\n",
       "    </tr>\n",
       "  </thead>\n",
       "  <tbody>\n",
       "    <tr>\n",
       "      <th>0</th>\n",
       "      <td>Q1_86</td>\n",
       "      <td>1734.827000</td>\n",
       "    </tr>\n",
       "    <tr>\n",
       "      <th>1</th>\n",
       "      <td>Q2_86</td>\n",
       "      <td>2244.960999</td>\n",
       "    </tr>\n",
       "    <tr>\n",
       "      <th>2</th>\n",
       "      <td>Q3_86</td>\n",
       "      <td>2533.804993</td>\n",
       "    </tr>\n",
       "    <tr>\n",
       "      <th>3</th>\n",
       "      <td>Q4_86</td>\n",
       "      <td>2154.962997</td>\n",
       "    </tr>\n",
       "    <tr>\n",
       "      <th>4</th>\n",
       "      <td>Q1_87</td>\n",
       "      <td>1547.818996</td>\n",
       "    </tr>\n",
       "  </tbody>\n",
       "</table>\n",
       "</div>"
      ],
      "text/plain": [
       "  Quarter        Sales\n",
       "0   Q1_86  1734.827000\n",
       "1   Q2_86  2244.960999\n",
       "2   Q3_86  2533.804993\n",
       "3   Q4_86  2154.962997\n",
       "4   Q1_87  1547.818996"
      ]
     },
     "execution_count": 3,
     "metadata": {},
     "output_type": "execute_result"
    }
   ],
   "source": [
    "coca.head()"
   ]
  },
  {
   "cell_type": "code",
   "execution_count": 4,
   "metadata": {},
   "outputs": [
    {
     "data": {
      "text/plain": [
       "Quarter    0\n",
       "Sales      0\n",
       "dtype: int64"
      ]
     },
     "execution_count": 4,
     "metadata": {},
     "output_type": "execute_result"
    }
   ],
   "source": [
    "coca.isnull().sum()"
   ]
  },
  {
   "cell_type": "code",
   "execution_count": 5,
   "metadata": {},
   "outputs": [],
   "source": [
    "quarter=[\"Q1,Q2,Q3,Q4\"]\n",
    "p=coca[\"Quarter\"][0]"
   ]
  },
  {
   "cell_type": "code",
   "execution_count": 6,
   "metadata": {},
   "outputs": [
    {
     "data": {
      "text/plain": [
       "'Q1'"
      ]
     },
     "execution_count": 6,
     "metadata": {},
     "output_type": "execute_result"
    }
   ],
   "source": [
    "p[0:2]"
   ]
  },
  {
   "cell_type": "code",
   "execution_count": 7,
   "metadata": {},
   "outputs": [],
   "source": [
    "coca[\"sales\"]=0"
   ]
  },
  {
   "cell_type": "code",
   "execution_count": 8,
   "metadata": {},
   "outputs": [
    {
     "name": "stderr",
     "output_type": "stream",
     "text": [
      "<ipython-input-8-3b983c07bf71>:3: SettingWithCopyWarning: \n",
      "A value is trying to be set on a copy of a slice from a DataFrame\n",
      "\n",
      "See the caveats in the documentation: https://pandas.pydata.org/pandas-docs/stable/user_guide/indexing.html#returning-a-view-versus-a-copy\n",
      "  coca[\"sales\"][i]=p[0:2]\n",
      "C:\\Users\\Admin\\anaconda3\\lib\\site-packages\\pandas\\core\\indexing.py:671: SettingWithCopyWarning: \n",
      "A value is trying to be set on a copy of a slice from a DataFrame\n",
      "\n",
      "See the caveats in the documentation: https://pandas.pydata.org/pandas-docs/stable/user_guide/indexing.html#returning-a-view-versus-a-copy\n",
      "  self._setitem_with_indexer(indexer, value)\n"
     ]
    }
   ],
   "source": [
    "for i in range(42):\n",
    "    p=coca[\"Quarter\"][i]\n",
    "    coca[\"sales\"][i]=p[0:2]"
   ]
  },
  {
   "cell_type": "code",
   "execution_count": 9,
   "metadata": {},
   "outputs": [],
   "source": [
    "quarter_dummies=pd.DataFrame(pd.get_dummies(coca[\"sales\"]))\n",
    "Coca=pd.concat([coca,quarter_dummies],axis=1)"
   ]
  },
  {
   "cell_type": "code",
   "execution_count": 25,
   "metadata": {},
   "outputs": [
    {
     "data": {
      "text/html": [
       "<div>\n",
       "<style scoped>\n",
       "    .dataframe tbody tr th:only-of-type {\n",
       "        vertical-align: middle;\n",
       "    }\n",
       "\n",
       "    .dataframe tbody tr th {\n",
       "        vertical-align: top;\n",
       "    }\n",
       "\n",
       "    .dataframe thead th {\n",
       "        text-align: right;\n",
       "    }\n",
       "</style>\n",
       "<table border=\"1\" class=\"dataframe\">\n",
       "  <thead>\n",
       "    <tr style=\"text-align: right;\">\n",
       "      <th></th>\n",
       "      <th>Quarter</th>\n",
       "      <th>Sales</th>\n",
       "      <th>sales</th>\n",
       "      <th>Q1</th>\n",
       "      <th>Q2</th>\n",
       "      <th>Q3</th>\n",
       "      <th>Q4</th>\n",
       "      <th>t</th>\n",
       "      <th>t_square</th>\n",
       "      <th>log_sales</th>\n",
       "    </tr>\n",
       "  </thead>\n",
       "  <tbody>\n",
       "    <tr>\n",
       "      <th>0</th>\n",
       "      <td>Q1_86</td>\n",
       "      <td>1734.827000</td>\n",
       "      <td>Q1</td>\n",
       "      <td>1</td>\n",
       "      <td>0</td>\n",
       "      <td>0</td>\n",
       "      <td>0</td>\n",
       "      <td>1</td>\n",
       "      <td>1</td>\n",
       "      <td>7.458663</td>\n",
       "    </tr>\n",
       "    <tr>\n",
       "      <th>1</th>\n",
       "      <td>Q2_86</td>\n",
       "      <td>2244.960999</td>\n",
       "      <td>Q2</td>\n",
       "      <td>0</td>\n",
       "      <td>1</td>\n",
       "      <td>0</td>\n",
       "      <td>0</td>\n",
       "      <td>2</td>\n",
       "      <td>4</td>\n",
       "      <td>7.716443</td>\n",
       "    </tr>\n",
       "    <tr>\n",
       "      <th>2</th>\n",
       "      <td>Q3_86</td>\n",
       "      <td>2533.804993</td>\n",
       "      <td>Q3</td>\n",
       "      <td>0</td>\n",
       "      <td>0</td>\n",
       "      <td>1</td>\n",
       "      <td>0</td>\n",
       "      <td>3</td>\n",
       "      <td>9</td>\n",
       "      <td>7.837477</td>\n",
       "    </tr>\n",
       "    <tr>\n",
       "      <th>3</th>\n",
       "      <td>Q4_86</td>\n",
       "      <td>2154.962997</td>\n",
       "      <td>Q4</td>\n",
       "      <td>0</td>\n",
       "      <td>0</td>\n",
       "      <td>0</td>\n",
       "      <td>1</td>\n",
       "      <td>4</td>\n",
       "      <td>16</td>\n",
       "      <td>7.675529</td>\n",
       "    </tr>\n",
       "    <tr>\n",
       "      <th>4</th>\n",
       "      <td>Q1_87</td>\n",
       "      <td>1547.818996</td>\n",
       "      <td>Q1</td>\n",
       "      <td>1</td>\n",
       "      <td>0</td>\n",
       "      <td>0</td>\n",
       "      <td>0</td>\n",
       "      <td>5</td>\n",
       "      <td>25</td>\n",
       "      <td>7.344602</td>\n",
       "    </tr>\n",
       "  </tbody>\n",
       "</table>\n",
       "</div>"
      ],
      "text/plain": [
       "  Quarter        Sales sales  Q1  Q2  Q3  Q4  t  t_square  log_sales\n",
       "0   Q1_86  1734.827000    Q1   1   0   0   0  1         1   7.458663\n",
       "1   Q2_86  2244.960999    Q2   0   1   0   0  2         4   7.716443\n",
       "2   Q3_86  2533.804993    Q3   0   0   1   0  3         9   7.837477\n",
       "3   Q4_86  2154.962997    Q4   0   0   0   1  4        16   7.675529\n",
       "4   Q1_87  1547.818996    Q1   1   0   0   0  5        25   7.344602"
      ]
     },
     "execution_count": 25,
     "metadata": {},
     "output_type": "execute_result"
    }
   ],
   "source": [
    "Coca.head()"
   ]
  },
  {
   "cell_type": "code",
   "execution_count": 10,
   "metadata": {},
   "outputs": [],
   "source": [
    "Coca[\"t\"]=np.arange(1,43)\n",
    "Coca[\"t_square\"]=Coca[\"t\"]*Coca[\"t\"]\n",
    "Coca[\"log_sales\"]=np.log(Coca[\"Sales\"])\n"
   ]
  },
  {
   "cell_type": "code",
   "execution_count": 11,
   "metadata": {},
   "outputs": [],
   "source": [
    "Train=Coca.head(38)\n",
    "Test=Coca.tail(4)\n",
    "Test=Test.set_index(np.arange(1,5))"
   ]
  },
  {
   "cell_type": "code",
   "execution_count": 12,
   "metadata": {},
   "outputs": [
    {
     "data": {
      "text/plain": [
       "591.553295722396"
      ]
     },
     "execution_count": 12,
     "metadata": {},
     "output_type": "execute_result"
    }
   ],
   "source": [
    "Lin_model=snf.ols(\"Sales~t\",data=Train).fit()\n",
    "Lin_pred=pd.Series(Lin_model.predict(pd.DataFrame(Test[\"t\"])))\n",
    "Lin_rmse=np.sqrt(np.mean((np.array(Test[\"Sales\"])-np.array(Lin_pred))**2))\n",
    "Lin_rmse"
   ]
  },
  {
   "cell_type": "code",
   "execution_count": 13,
   "metadata": {},
   "outputs": [
    {
     "data": {
      "text/plain": [
       "475.5618351831504"
      ]
     },
     "execution_count": 13,
     "metadata": {},
     "output_type": "execute_result"
    }
   ],
   "source": [
    "Quad_model=snf.ols(\"Sales~t+t_square\",data=Train).fit()\n",
    "Quad_pred=pd.Series(Quad_model.predict(pd.DataFrame(Test[[\"t\",\"t_square\"]])))\n",
    "Quad_rmse=np.sqrt(np.mean((np.array(Test[\"Sales\"])-np.array(Quad_pred))**2))\n",
    "Quad_rmse"
   ]
  },
  {
   "cell_type": "code",
   "execution_count": 14,
   "metadata": {},
   "outputs": [
    {
     "data": {
      "text/plain": [
       "466.2479731067161"
      ]
     },
     "execution_count": 14,
     "metadata": {},
     "output_type": "execute_result"
    }
   ],
   "source": [
    "Exp_model=snf.ols(\"log_sales~t\",data=Train).fit()\n",
    "Exp_pred=pd.Series(Exp_model.predict(pd.DataFrame(Test[\"t\"])))\n",
    "Exp_rmse=np.sqrt(np.mean((np.array(Test[\"Sales\"])-np.array(np.exp(Exp_pred)))**2))\n",
    "Exp_rmse"
   ]
  },
  {
   "cell_type": "code",
   "execution_count": 15,
   "metadata": {},
   "outputs": [
    {
     "data": {
      "text/plain": [
       "1860.0238154547274"
      ]
     },
     "execution_count": 15,
     "metadata": {},
     "output_type": "execute_result"
    }
   ],
   "source": [
    "Add_sea=snf.ols(\"Sales~Q1+Q2+Q3+Q4\",data=Train).fit()\n",
    "Add_pred=pd.Series(Add_sea.predict(pd.DataFrame(Test[[\"Q1\",\"Q2\",\"Q3\",\"Q4\"]])))\n",
    "Add_rmse=np.sqrt(np.mean((np.array(Test[\"Sales\"])-np.array(Add_pred))**2))\n",
    "Add_rmse"
   ]
  },
  {
   "cell_type": "code",
   "execution_count": 16,
   "metadata": {},
   "outputs": [
    {
     "data": {
      "text/plain": [
       "464.98290239822353"
      ]
     },
     "execution_count": 16,
     "metadata": {},
     "output_type": "execute_result"
    }
   ],
   "source": [
    "Add_lin_sea=snf.ols(\"Sales~Q1+Q2+Q3+Q4+t\",data=Train).fit()\n",
    "Add_lin_pred=pd.Series(Add_lin_sea.predict(pd.DataFrame(Test[[\"Q1\",\"Q2\",\"Q3\",\"Q4\",\"t\"]])))\n",
    "Add_lin_rmse=np.sqrt(np.mean((np.array(Test[\"Sales\"])-np.array(Add_lin_pred))**2))\n",
    "Add_lin_rmse"
   ]
  },
  {
   "cell_type": "code",
   "execution_count": 17,
   "metadata": {},
   "outputs": [
    {
     "data": {
      "text/plain": [
       "301.73800719350953"
      ]
     },
     "execution_count": 17,
     "metadata": {},
     "output_type": "execute_result"
    }
   ],
   "source": [
    "Add_Quad_sea=snf.ols(\"Sales~Q1+Q2+Q3+Q4+t+t_square\",data=Train).fit()\n",
    "Add_Quad_pred=pd.Series(Add_Quad_sea.predict(pd.DataFrame(Test[[\"Q1\",\"Q2\",\"Q3\",\"Q4\",\"t\",\"t_square\"]])))\n",
    "Add_Quad_rmse=np.sqrt(np.mean((np.array(Test[\"Sales\"])-np.array(Add_Quad_pred))**2))\n",
    "Add_Quad_rmse"
   ]
  },
  {
   "cell_type": "code",
   "execution_count": 18,
   "metadata": {},
   "outputs": [
    {
     "data": {
      "text/plain": [
       "1963.3896400779681"
      ]
     },
     "execution_count": 18,
     "metadata": {},
     "output_type": "execute_result"
    }
   ],
   "source": [
    "Mul_model=snf.ols(\"log_sales~Q1+Q2+Q3+Q4\",data=Train).fit()\n",
    "Mul_pred=pd.Series(Mul_model.predict(pd.DataFrame(Test[[\"Q1\",\"Q2\",\"Q3\",\"Q4\"]])))\n",
    "Mul_rmse=np.sqrt(np.mean((np.array(Test[\"Sales\"])-np.array(np.exp(Mul_pred)))**2))\n",
    "Mul_rmse"
   ]
  },
  {
   "cell_type": "code",
   "execution_count": 19,
   "metadata": {},
   "outputs": [
    {
     "data": {
      "text/plain": [
       "225.52439049826037"
      ]
     },
     "execution_count": 19,
     "metadata": {},
     "output_type": "execute_result"
    }
   ],
   "source": [
    "Mul_lin_model=snf.ols(\"log_sales~Q1+Q2+Q3+Q4+t\",data=Train).fit()\n",
    "Mul_lin_pred=pd.Series(Mul_lin_model.predict(pd.DataFrame(Test[[\"Q1\",\"Q2\",\"Q3\",\"Q4\",\"t\"]])))\n",
    "Mul_lin_rmse=np.sqrt(np.mean((np.array(Test[\"Sales\"])-np.array(np.exp(Mul_lin_pred)))**2))\n",
    "Mul_lin_rmse"
   ]
  },
  {
   "cell_type": "code",
   "execution_count": 20,
   "metadata": {},
   "outputs": [
    {
     "data": {
      "text/plain": [
       "581.8457187976113"
      ]
     },
     "execution_count": 20,
     "metadata": {},
     "output_type": "execute_result"
    }
   ],
   "source": [
    "Mul_lin_quad_model=snf.ols(\"log_sales~Q1+Q2+Q3+Q4+t+t_square\",data=Train).fit()\n",
    "Mul_lin_quad_pred=pd.Series(Mul_lin_quad_model.predict(pd.DataFrame(Test[[\"Q1\",\"Q2\",\"Q3\",\"Q4\",\"t\",\"t_square\"]])))\n",
    "Mul_lin_quad_rmse=np.sqrt(np.mean((np.array(Test[\"Sales\"])-np.array(np.exp(Mul_lin_quad_pred)))**2))\n",
    "Mul_lin_quad_rmse"
   ]
  },
  {
   "cell_type": "code",
   "execution_count": 21,
   "metadata": {},
   "outputs": [
    {
     "data": {
      "text/html": [
       "<div>\n",
       "<style scoped>\n",
       "    .dataframe tbody tr th:only-of-type {\n",
       "        vertical-align: middle;\n",
       "    }\n",
       "\n",
       "    .dataframe tbody tr th {\n",
       "        vertical-align: top;\n",
       "    }\n",
       "\n",
       "    .dataframe thead th {\n",
       "        text-align: right;\n",
       "    }\n",
       "</style>\n",
       "<table border=\"1\" class=\"dataframe\">\n",
       "  <thead>\n",
       "    <tr style=\"text-align: right;\">\n",
       "      <th></th>\n",
       "      <th>Model</th>\n",
       "      <th>RMSE_Values</th>\n",
       "    </tr>\n",
       "  </thead>\n",
       "  <tbody>\n",
       "    <tr>\n",
       "      <th>0</th>\n",
       "      <td>Lin_rmse</td>\n",
       "      <td>591.553296</td>\n",
       "    </tr>\n",
       "    <tr>\n",
       "      <th>1</th>\n",
       "      <td>Quad_rmse</td>\n",
       "      <td>475.561835</td>\n",
       "    </tr>\n",
       "    <tr>\n",
       "      <th>2</th>\n",
       "      <td>Exp_rmse</td>\n",
       "      <td>466.247973</td>\n",
       "    </tr>\n",
       "    <tr>\n",
       "      <th>3</th>\n",
       "      <td>Add_rmse</td>\n",
       "      <td>1860.023815</td>\n",
       "    </tr>\n",
       "    <tr>\n",
       "      <th>4</th>\n",
       "      <td>Add_lin_rmse</td>\n",
       "      <td>464.982902</td>\n",
       "    </tr>\n",
       "    <tr>\n",
       "      <th>5</th>\n",
       "      <td>Add_Quad_rmse</td>\n",
       "      <td>301.738007</td>\n",
       "    </tr>\n",
       "    <tr>\n",
       "      <th>6</th>\n",
       "      <td>Mul_rmse</td>\n",
       "      <td>1963.389640</td>\n",
       "    </tr>\n",
       "    <tr>\n",
       "      <th>7</th>\n",
       "      <td>Mul_lin_rmse</td>\n",
       "      <td>225.524390</td>\n",
       "    </tr>\n",
       "    <tr>\n",
       "      <th>8</th>\n",
       "      <td>Mul_lin_quad_rmse</td>\n",
       "      <td>581.845719</td>\n",
       "    </tr>\n",
       "  </tbody>\n",
       "</table>\n",
       "</div>"
      ],
      "text/plain": [
       "               Model  RMSE_Values\n",
       "0           Lin_rmse   591.553296\n",
       "1          Quad_rmse   475.561835\n",
       "2           Exp_rmse   466.247973\n",
       "3           Add_rmse  1860.023815\n",
       "4       Add_lin_rmse   464.982902\n",
       "5      Add_Quad_rmse   301.738007\n",
       "6           Mul_rmse  1963.389640\n",
       "7       Mul_lin_rmse   225.524390\n",
       "8  Mul_lin_quad_rmse   581.845719"
      ]
     },
     "execution_count": 21,
     "metadata": {},
     "output_type": "execute_result"
    }
   ],
   "source": [
    "Rmse_Table={\"Model\":pd.Series([\"Lin_rmse\",\"Quad_rmse\",\"Exp_rmse\",\"Add_rmse\",\"Add_lin_rmse\",\"Add_Quad_rmse\",\"Mul_rmse\",\"Mul_lin_rmse\",\"Mul_lin_quad_rmse\"]),\"RMSE_Values\":pd.Series([Lin_rmse,Quad_rmse,Exp_rmse,Add_rmse,Add_lin_rmse,Add_Quad_rmse,Mul_rmse,Mul_lin_rmse,Mul_lin_quad_rmse])}\n",
    "Rmse_Table=pd.DataFrame(Rmse_Table)\n",
    "Rmse_Table"
   ]
  },
  {
   "cell_type": "code",
   "execution_count": 22,
   "metadata": {},
   "outputs": [],
   "source": [
    "Final=Mul_lin_model=snf.ols(\"log_sales~Q1+Q2+Q3+Q4+t\",data=Coca).fit()"
   ]
  },
  {
   "cell_type": "code",
   "execution_count": 23,
   "metadata": {},
   "outputs": [
    {
     "data": {
      "text/plain": [
       "<statsmodels.regression.linear_model.RegressionResultsWrapper at 0x22de3976040>"
      ]
     },
     "execution_count": 23,
     "metadata": {},
     "output_type": "execute_result"
    }
   ],
   "source": [
    "Final"
   ]
  },
  {
   "cell_type": "code",
   "execution_count": null,
   "metadata": {},
   "outputs": [],
   "source": []
  }
 ],
 "metadata": {
  "kernelspec": {
   "display_name": "Python 3",
   "language": "python",
   "name": "python3"
  },
  "language_info": {
   "codemirror_mode": {
    "name": "ipython",
    "version": 3
   },
   "file_extension": ".py",
   "mimetype": "text/x-python",
   "name": "python",
   "nbconvert_exporter": "python",
   "pygments_lexer": "ipython3",
   "version": "3.8.3"
  }
 },
 "nbformat": 4,
 "nbformat_minor": 4
}
