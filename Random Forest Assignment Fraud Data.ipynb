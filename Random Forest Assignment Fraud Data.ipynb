{
 "cells": [
  {
   "cell_type": "code",
   "execution_count": 17,
   "metadata": {},
   "outputs": [],
   "source": [
    "import pandas as pd \n",
    "import numpy as np \n",
    "from matplotlib import pyplot as plt\n",
    "from sklearn.preprocessing import LabelEncoder\n",
    "from sklearn.ensemble import RandomForestClassifier"
   ]
  },
  {
   "cell_type": "code",
   "execution_count": 2,
   "metadata": {},
   "outputs": [],
   "source": [
    "fraud = pd.read_csv(\"C:\\\\Users\\\\Admin\\\\Downloads\\\\Fraud_check.csv\")"
   ]
  },
  {
   "cell_type": "code",
   "execution_count": 3,
   "metadata": {},
   "outputs": [
    {
     "data": {
      "text/html": [
       "<div>\n",
       "<style scoped>\n",
       "    .dataframe tbody tr th:only-of-type {\n",
       "        vertical-align: middle;\n",
       "    }\n",
       "\n",
       "    .dataframe tbody tr th {\n",
       "        vertical-align: top;\n",
       "    }\n",
       "\n",
       "    .dataframe thead th {\n",
       "        text-align: right;\n",
       "    }\n",
       "</style>\n",
       "<table border=\"1\" class=\"dataframe\">\n",
       "  <thead>\n",
       "    <tr style=\"text-align: right;\">\n",
       "      <th></th>\n",
       "      <th>Undergrad</th>\n",
       "      <th>Marital.Status</th>\n",
       "      <th>Taxable.Income</th>\n",
       "      <th>City.Population</th>\n",
       "      <th>Work.Experience</th>\n",
       "      <th>Urban</th>\n",
       "    </tr>\n",
       "  </thead>\n",
       "  <tbody>\n",
       "    <tr>\n",
       "      <th>0</th>\n",
       "      <td>NO</td>\n",
       "      <td>Single</td>\n",
       "      <td>68833</td>\n",
       "      <td>50047</td>\n",
       "      <td>10</td>\n",
       "      <td>YES</td>\n",
       "    </tr>\n",
       "    <tr>\n",
       "      <th>1</th>\n",
       "      <td>YES</td>\n",
       "      <td>Divorced</td>\n",
       "      <td>33700</td>\n",
       "      <td>134075</td>\n",
       "      <td>18</td>\n",
       "      <td>YES</td>\n",
       "    </tr>\n",
       "    <tr>\n",
       "      <th>2</th>\n",
       "      <td>NO</td>\n",
       "      <td>Married</td>\n",
       "      <td>36925</td>\n",
       "      <td>160205</td>\n",
       "      <td>30</td>\n",
       "      <td>YES</td>\n",
       "    </tr>\n",
       "    <tr>\n",
       "      <th>3</th>\n",
       "      <td>YES</td>\n",
       "      <td>Single</td>\n",
       "      <td>50190</td>\n",
       "      <td>193264</td>\n",
       "      <td>15</td>\n",
       "      <td>YES</td>\n",
       "    </tr>\n",
       "    <tr>\n",
       "      <th>4</th>\n",
       "      <td>NO</td>\n",
       "      <td>Married</td>\n",
       "      <td>81002</td>\n",
       "      <td>27533</td>\n",
       "      <td>28</td>\n",
       "      <td>NO</td>\n",
       "    </tr>\n",
       "  </tbody>\n",
       "</table>\n",
       "</div>"
      ],
      "text/plain": [
       "  Undergrad Marital.Status  Taxable.Income  City.Population  Work.Experience  \\\n",
       "0        NO         Single           68833            50047               10   \n",
       "1       YES       Divorced           33700           134075               18   \n",
       "2        NO        Married           36925           160205               30   \n",
       "3       YES         Single           50190           193264               15   \n",
       "4        NO        Married           81002            27533               28   \n",
       "\n",
       "  Urban  \n",
       "0   YES  \n",
       "1   YES  \n",
       "2   YES  \n",
       "3   YES  \n",
       "4    NO  "
      ]
     },
     "execution_count": 3,
     "metadata": {},
     "output_type": "execute_result"
    }
   ],
   "source": [
    "fraud.head()"
   ]
  },
  {
   "cell_type": "code",
   "execution_count": 4,
   "metadata": {},
   "outputs": [
    {
     "data": {
      "text/html": [
       "<div>\n",
       "<style scoped>\n",
       "    .dataframe tbody tr th:only-of-type {\n",
       "        vertical-align: middle;\n",
       "    }\n",
       "\n",
       "    .dataframe tbody tr th {\n",
       "        vertical-align: top;\n",
       "    }\n",
       "\n",
       "    .dataframe thead th {\n",
       "        text-align: right;\n",
       "    }\n",
       "</style>\n",
       "<table border=\"1\" class=\"dataframe\">\n",
       "  <thead>\n",
       "    <tr style=\"text-align: right;\">\n",
       "      <th></th>\n",
       "      <th>Taxable.Income</th>\n",
       "      <th>City.Population</th>\n",
       "      <th>Work.Experience</th>\n",
       "    </tr>\n",
       "  </thead>\n",
       "  <tbody>\n",
       "    <tr>\n",
       "      <th>count</th>\n",
       "      <td>600.000000</td>\n",
       "      <td>600.000000</td>\n",
       "      <td>600.000000</td>\n",
       "    </tr>\n",
       "    <tr>\n",
       "      <th>mean</th>\n",
       "      <td>55208.375000</td>\n",
       "      <td>108747.368333</td>\n",
       "      <td>15.558333</td>\n",
       "    </tr>\n",
       "    <tr>\n",
       "      <th>std</th>\n",
       "      <td>26204.827597</td>\n",
       "      <td>49850.075134</td>\n",
       "      <td>8.842147</td>\n",
       "    </tr>\n",
       "    <tr>\n",
       "      <th>min</th>\n",
       "      <td>10003.000000</td>\n",
       "      <td>25779.000000</td>\n",
       "      <td>0.000000</td>\n",
       "    </tr>\n",
       "    <tr>\n",
       "      <th>25%</th>\n",
       "      <td>32871.500000</td>\n",
       "      <td>66966.750000</td>\n",
       "      <td>8.000000</td>\n",
       "    </tr>\n",
       "    <tr>\n",
       "      <th>50%</th>\n",
       "      <td>55074.500000</td>\n",
       "      <td>106493.500000</td>\n",
       "      <td>15.000000</td>\n",
       "    </tr>\n",
       "    <tr>\n",
       "      <th>75%</th>\n",
       "      <td>78611.750000</td>\n",
       "      <td>150114.250000</td>\n",
       "      <td>24.000000</td>\n",
       "    </tr>\n",
       "    <tr>\n",
       "      <th>max</th>\n",
       "      <td>99619.000000</td>\n",
       "      <td>199778.000000</td>\n",
       "      <td>30.000000</td>\n",
       "    </tr>\n",
       "  </tbody>\n",
       "</table>\n",
       "</div>"
      ],
      "text/plain": [
       "       Taxable.Income  City.Population  Work.Experience\n",
       "count      600.000000       600.000000       600.000000\n",
       "mean     55208.375000    108747.368333        15.558333\n",
       "std      26204.827597     49850.075134         8.842147\n",
       "min      10003.000000     25779.000000         0.000000\n",
       "25%      32871.500000     66966.750000         8.000000\n",
       "50%      55074.500000    106493.500000        15.000000\n",
       "75%      78611.750000    150114.250000        24.000000\n",
       "max      99619.000000    199778.000000        30.000000"
      ]
     },
     "execution_count": 4,
     "metadata": {},
     "output_type": "execute_result"
    }
   ],
   "source": [
    "fraud.describe()"
   ]
  },
  {
   "cell_type": "code",
   "execution_count": 5,
   "metadata": {},
   "outputs": [
    {
     "data": {
      "text/plain": [
       "Undergrad          0\n",
       "Marital.Status     0\n",
       "Taxable.Income     0\n",
       "City.Population    0\n",
       "Work.Experience    0\n",
       "Urban              0\n",
       "dtype: int64"
      ]
     },
     "execution_count": 5,
     "metadata": {},
     "output_type": "execute_result"
    }
   ],
   "source": [
    "fraud.isnull().sum()"
   ]
  },
  {
   "cell_type": "code",
   "execution_count": 6,
   "metadata": {},
   "outputs": [
    {
     "data": {
      "text/plain": [
       "(0, 6)"
      ]
     },
     "execution_count": 6,
     "metadata": {},
     "output_type": "execute_result"
    }
   ],
   "source": [
    "fraud[fraud.duplicated()].shape"
   ]
  },
  {
   "cell_type": "code",
   "execution_count": 9,
   "metadata": {},
   "outputs": [],
   "source": [
    "fraud = fraud.rename({'Taxable.Income': 'TaxableIncome'}, axis=1)"
   ]
  },
  {
   "cell_type": "code",
   "execution_count": 11,
   "metadata": {},
   "outputs": [
    {
     "data": {
      "text/html": [
       "<div>\n",
       "<style scoped>\n",
       "    .dataframe tbody tr th:only-of-type {\n",
       "        vertical-align: middle;\n",
       "    }\n",
       "\n",
       "    .dataframe tbody tr th {\n",
       "        vertical-align: top;\n",
       "    }\n",
       "\n",
       "    .dataframe thead th {\n",
       "        text-align: right;\n",
       "    }\n",
       "</style>\n",
       "<table border=\"1\" class=\"dataframe\">\n",
       "  <thead>\n",
       "    <tr style=\"text-align: right;\">\n",
       "      <th></th>\n",
       "      <th>Undergrad</th>\n",
       "      <th>Marital.Status</th>\n",
       "      <th>TaxableIncome</th>\n",
       "      <th>City.Population</th>\n",
       "      <th>Work.Experience</th>\n",
       "      <th>Urban</th>\n",
       "    </tr>\n",
       "  </thead>\n",
       "  <tbody>\n",
       "    <tr>\n",
       "      <th>0</th>\n",
       "      <td>NO</td>\n",
       "      <td>Single</td>\n",
       "      <td>Good</td>\n",
       "      <td>50047</td>\n",
       "      <td>10</td>\n",
       "      <td>YES</td>\n",
       "    </tr>\n",
       "    <tr>\n",
       "      <th>1</th>\n",
       "      <td>YES</td>\n",
       "      <td>Divorced</td>\n",
       "      <td>Good</td>\n",
       "      <td>134075</td>\n",
       "      <td>18</td>\n",
       "      <td>YES</td>\n",
       "    </tr>\n",
       "    <tr>\n",
       "      <th>2</th>\n",
       "      <td>NO</td>\n",
       "      <td>Married</td>\n",
       "      <td>Good</td>\n",
       "      <td>160205</td>\n",
       "      <td>30</td>\n",
       "      <td>YES</td>\n",
       "    </tr>\n",
       "    <tr>\n",
       "      <th>3</th>\n",
       "      <td>YES</td>\n",
       "      <td>Single</td>\n",
       "      <td>Good</td>\n",
       "      <td>193264</td>\n",
       "      <td>15</td>\n",
       "      <td>YES</td>\n",
       "    </tr>\n",
       "    <tr>\n",
       "      <th>4</th>\n",
       "      <td>NO</td>\n",
       "      <td>Married</td>\n",
       "      <td>Good</td>\n",
       "      <td>27533</td>\n",
       "      <td>28</td>\n",
       "      <td>NO</td>\n",
       "    </tr>\n",
       "    <tr>\n",
       "      <th>...</th>\n",
       "      <td>...</td>\n",
       "      <td>...</td>\n",
       "      <td>...</td>\n",
       "      <td>...</td>\n",
       "      <td>...</td>\n",
       "      <td>...</td>\n",
       "    </tr>\n",
       "    <tr>\n",
       "      <th>595</th>\n",
       "      <td>YES</td>\n",
       "      <td>Divorced</td>\n",
       "      <td>Good</td>\n",
       "      <td>39492</td>\n",
       "      <td>7</td>\n",
       "      <td>YES</td>\n",
       "    </tr>\n",
       "    <tr>\n",
       "      <th>596</th>\n",
       "      <td>YES</td>\n",
       "      <td>Divorced</td>\n",
       "      <td>Good</td>\n",
       "      <td>55369</td>\n",
       "      <td>2</td>\n",
       "      <td>YES</td>\n",
       "    </tr>\n",
       "    <tr>\n",
       "      <th>597</th>\n",
       "      <td>NO</td>\n",
       "      <td>Divorced</td>\n",
       "      <td>Good</td>\n",
       "      <td>154058</td>\n",
       "      <td>0</td>\n",
       "      <td>YES</td>\n",
       "    </tr>\n",
       "    <tr>\n",
       "      <th>598</th>\n",
       "      <td>YES</td>\n",
       "      <td>Married</td>\n",
       "      <td>Good</td>\n",
       "      <td>180083</td>\n",
       "      <td>17</td>\n",
       "      <td>NO</td>\n",
       "    </tr>\n",
       "    <tr>\n",
       "      <th>599</th>\n",
       "      <td>NO</td>\n",
       "      <td>Divorced</td>\n",
       "      <td>Good</td>\n",
       "      <td>158137</td>\n",
       "      <td>16</td>\n",
       "      <td>NO</td>\n",
       "    </tr>\n",
       "  </tbody>\n",
       "</table>\n",
       "<p>600 rows × 6 columns</p>\n",
       "</div>"
      ],
      "text/plain": [
       "    Undergrad Marital.Status TaxableIncome  City.Population  Work.Experience  \\\n",
       "0          NO         Single          Good            50047               10   \n",
       "1         YES       Divorced          Good           134075               18   \n",
       "2          NO        Married          Good           160205               30   \n",
       "3         YES         Single          Good           193264               15   \n",
       "4          NO        Married          Good            27533               28   \n",
       "..        ...            ...           ...              ...              ...   \n",
       "595       YES       Divorced          Good            39492                7   \n",
       "596       YES       Divorced          Good            55369                2   \n",
       "597        NO       Divorced          Good           154058                0   \n",
       "598       YES        Married          Good           180083               17   \n",
       "599        NO       Divorced          Good           158137               16   \n",
       "\n",
       "    Urban  \n",
       "0     YES  \n",
       "1     YES  \n",
       "2     YES  \n",
       "3     YES  \n",
       "4      NO  \n",
       "..    ...  \n",
       "595   YES  \n",
       "596   YES  \n",
       "597   YES  \n",
       "598    NO  \n",
       "599    NO  \n",
       "\n",
       "[600 rows x 6 columns]"
      ]
     },
     "execution_count": 11,
     "metadata": {},
     "output_type": "execute_result"
    }
   ],
   "source": [
    "fraud['TaxableIncome'] = pd.cut(fraud.TaxableIncome,bins=(0,30000,199778),labels=['Risky','Good'])\n",
    "fraud"
   ]
  },
  {
   "cell_type": "code",
   "execution_count": 13,
   "metadata": {},
   "outputs": [],
   "source": [
    "x = fraud.iloc[:,:-1]\n",
    "y=fraud.iloc[:,-1]"
   ]
  },
  {
   "cell_type": "code",
   "execution_count": 15,
   "metadata": {},
   "outputs": [],
   "source": [
    "label_encoder_x=LabelEncoder()"
   ]
  },
  {
   "cell_type": "code",
   "execution_count": 16,
   "metadata": {},
   "outputs": [],
   "source": [
    "x=x.apply(LabelEncoder().fit_transform)"
   ]
  },
  {
   "cell_type": "code",
   "execution_count": 18,
   "metadata": {},
   "outputs": [
    {
     "data": {
      "text/plain": [
       "RandomForestClassifier(criterion='entropy', n_jobs=3, oob_score=True)"
      ]
     },
     "execution_count": 18,
     "metadata": {},
     "output_type": "execute_result"
    }
   ],
   "source": [
    "rf = RandomForestClassifier(n_jobs=3,oob_score=True,n_estimators=100,criterion=\"entropy\")\n",
    "rf"
   ]
  },
  {
   "cell_type": "code",
   "execution_count": 19,
   "metadata": {},
   "outputs": [
    {
     "data": {
      "text/plain": [
       "RandomForestClassifier(criterion='entropy', n_jobs=3, oob_score=True)"
      ]
     },
     "execution_count": 19,
     "metadata": {},
     "output_type": "execute_result"
    }
   ],
   "source": [
    "rf.fit(x,y)"
   ]
  },
  {
   "cell_type": "code",
   "execution_count": 20,
   "metadata": {},
   "outputs": [
    {
     "data": {
      "text/plain": [
       "[DecisionTreeClassifier(criterion='entropy', max_features='auto',\n",
       "                        random_state=36475096),\n",
       " DecisionTreeClassifier(criterion='entropy', max_features='auto',\n",
       "                        random_state=82761575),\n",
       " DecisionTreeClassifier(criterion='entropy', max_features='auto',\n",
       "                        random_state=1599077535),\n",
       " DecisionTreeClassifier(criterion='entropy', max_features='auto',\n",
       "                        random_state=268767399),\n",
       " DecisionTreeClassifier(criterion='entropy', max_features='auto',\n",
       "                        random_state=1493229835),\n",
       " DecisionTreeClassifier(criterion='entropy', max_features='auto',\n",
       "                        random_state=1532965295),\n",
       " DecisionTreeClassifier(criterion='entropy', max_features='auto',\n",
       "                        random_state=1748053829),\n",
       " DecisionTreeClassifier(criterion='entropy', max_features='auto',\n",
       "                        random_state=1726206984),\n",
       " DecisionTreeClassifier(criterion='entropy', max_features='auto',\n",
       "                        random_state=2102603974),\n",
       " DecisionTreeClassifier(criterion='entropy', max_features='auto',\n",
       "                        random_state=2363877),\n",
       " DecisionTreeClassifier(criterion='entropy', max_features='auto',\n",
       "                        random_state=1167725010),\n",
       " DecisionTreeClassifier(criterion='entropy', max_features='auto',\n",
       "                        random_state=1377230765),\n",
       " DecisionTreeClassifier(criterion='entropy', max_features='auto',\n",
       "                        random_state=1345160994),\n",
       " DecisionTreeClassifier(criterion='entropy', max_features='auto',\n",
       "                        random_state=1650927084),\n",
       " DecisionTreeClassifier(criterion='entropy', max_features='auto',\n",
       "                        random_state=33947863),\n",
       " DecisionTreeClassifier(criterion='entropy', max_features='auto',\n",
       "                        random_state=1561960085),\n",
       " DecisionTreeClassifier(criterion='entropy', max_features='auto',\n",
       "                        random_state=1742347933),\n",
       " DecisionTreeClassifier(criterion='entropy', max_features='auto',\n",
       "                        random_state=1908700752),\n",
       " DecisionTreeClassifier(criterion='entropy', max_features='auto',\n",
       "                        random_state=479517473),\n",
       " DecisionTreeClassifier(criterion='entropy', max_features='auto',\n",
       "                        random_state=1931974633),\n",
       " DecisionTreeClassifier(criterion='entropy', max_features='auto',\n",
       "                        random_state=1613293391),\n",
       " DecisionTreeClassifier(criterion='entropy', max_features='auto',\n",
       "                        random_state=1113701871),\n",
       " DecisionTreeClassifier(criterion='entropy', max_features='auto',\n",
       "                        random_state=1319644377),\n",
       " DecisionTreeClassifier(criterion='entropy', max_features='auto',\n",
       "                        random_state=719036355),\n",
       " DecisionTreeClassifier(criterion='entropy', max_features='auto',\n",
       "                        random_state=1191832584),\n",
       " DecisionTreeClassifier(criterion='entropy', max_features='auto',\n",
       "                        random_state=675304285),\n",
       " DecisionTreeClassifier(criterion='entropy', max_features='auto',\n",
       "                        random_state=161854429),\n",
       " DecisionTreeClassifier(criterion='entropy', max_features='auto',\n",
       "                        random_state=1990078571),\n",
       " DecisionTreeClassifier(criterion='entropy', max_features='auto',\n",
       "                        random_state=1029184923),\n",
       " DecisionTreeClassifier(criterion='entropy', max_features='auto',\n",
       "                        random_state=2034980235),\n",
       " DecisionTreeClassifier(criterion='entropy', max_features='auto',\n",
       "                        random_state=1132002223),\n",
       " DecisionTreeClassifier(criterion='entropy', max_features='auto',\n",
       "                        random_state=1141683025),\n",
       " DecisionTreeClassifier(criterion='entropy', max_features='auto',\n",
       "                        random_state=1152094757),\n",
       " DecisionTreeClassifier(criterion='entropy', max_features='auto',\n",
       "                        random_state=1957047180),\n",
       " DecisionTreeClassifier(criterion='entropy', max_features='auto',\n",
       "                        random_state=1064969465),\n",
       " DecisionTreeClassifier(criterion='entropy', max_features='auto',\n",
       "                        random_state=2061008815),\n",
       " DecisionTreeClassifier(criterion='entropy', max_features='auto',\n",
       "                        random_state=1754313659),\n",
       " DecisionTreeClassifier(criterion='entropy', max_features='auto',\n",
       "                        random_state=361568526),\n",
       " DecisionTreeClassifier(criterion='entropy', max_features='auto',\n",
       "                        random_state=1452035684),\n",
       " DecisionTreeClassifier(criterion='entropy', max_features='auto',\n",
       "                        random_state=1841548847),\n",
       " DecisionTreeClassifier(criterion='entropy', max_features='auto',\n",
       "                        random_state=1981248321),\n",
       " DecisionTreeClassifier(criterion='entropy', max_features='auto',\n",
       "                        random_state=317436126),\n",
       " DecisionTreeClassifier(criterion='entropy', max_features='auto',\n",
       "                        random_state=366051037),\n",
       " DecisionTreeClassifier(criterion='entropy', max_features='auto',\n",
       "                        random_state=647406744),\n",
       " DecisionTreeClassifier(criterion='entropy', max_features='auto',\n",
       "                        random_state=1015640965),\n",
       " DecisionTreeClassifier(criterion='entropy', max_features='auto',\n",
       "                        random_state=1249475696),\n",
       " DecisionTreeClassifier(criterion='entropy', max_features='auto',\n",
       "                        random_state=578768614),\n",
       " DecisionTreeClassifier(criterion='entropy', max_features='auto',\n",
       "                        random_state=1906195043),\n",
       " DecisionTreeClassifier(criterion='entropy', max_features='auto',\n",
       "                        random_state=1592918971),\n",
       " DecisionTreeClassifier(criterion='entropy', max_features='auto',\n",
       "                        random_state=852005406),\n",
       " DecisionTreeClassifier(criterion='entropy', max_features='auto',\n",
       "                        random_state=1443854684),\n",
       " DecisionTreeClassifier(criterion='entropy', max_features='auto',\n",
       "                        random_state=377129075),\n",
       " DecisionTreeClassifier(criterion='entropy', max_features='auto',\n",
       "                        random_state=1691106304),\n",
       " DecisionTreeClassifier(criterion='entropy', max_features='auto',\n",
       "                        random_state=1351816985),\n",
       " DecisionTreeClassifier(criterion='entropy', max_features='auto',\n",
       "                        random_state=954184971),\n",
       " DecisionTreeClassifier(criterion='entropy', max_features='auto',\n",
       "                        random_state=529221780),\n",
       " DecisionTreeClassifier(criterion='entropy', max_features='auto',\n",
       "                        random_state=1359544586),\n",
       " DecisionTreeClassifier(criterion='entropy', max_features='auto',\n",
       "                        random_state=154902696),\n",
       " DecisionTreeClassifier(criterion='entropy', max_features='auto',\n",
       "                        random_state=1184329199),\n",
       " DecisionTreeClassifier(criterion='entropy', max_features='auto',\n",
       "                        random_state=2029155120),\n",
       " DecisionTreeClassifier(criterion='entropy', max_features='auto',\n",
       "                        random_state=1058724112),\n",
       " DecisionTreeClassifier(criterion='entropy', max_features='auto',\n",
       "                        random_state=493428180),\n",
       " DecisionTreeClassifier(criterion='entropy', max_features='auto',\n",
       "                        random_state=131936325),\n",
       " DecisionTreeClassifier(criterion='entropy', max_features='auto',\n",
       "                        random_state=1792756588),\n",
       " DecisionTreeClassifier(criterion='entropy', max_features='auto',\n",
       "                        random_state=673556135),\n",
       " DecisionTreeClassifier(criterion='entropy', max_features='auto',\n",
       "                        random_state=382486045),\n",
       " DecisionTreeClassifier(criterion='entropy', max_features='auto',\n",
       "                        random_state=1564738374),\n",
       " DecisionTreeClassifier(criterion='entropy', max_features='auto',\n",
       "                        random_state=1711490370),\n",
       " DecisionTreeClassifier(criterion='entropy', max_features='auto',\n",
       "                        random_state=1484409253),\n",
       " DecisionTreeClassifier(criterion='entropy', max_features='auto',\n",
       "                        random_state=1443254638),\n",
       " DecisionTreeClassifier(criterion='entropy', max_features='auto',\n",
       "                        random_state=1126261265),\n",
       " DecisionTreeClassifier(criterion='entropy', max_features='auto',\n",
       "                        random_state=1034574143),\n",
       " DecisionTreeClassifier(criterion='entropy', max_features='auto',\n",
       "                        random_state=993770230),\n",
       " DecisionTreeClassifier(criterion='entropy', max_features='auto',\n",
       "                        random_state=14118778),\n",
       " DecisionTreeClassifier(criterion='entropy', max_features='auto',\n",
       "                        random_state=1398736007),\n",
       " DecisionTreeClassifier(criterion='entropy', max_features='auto',\n",
       "                        random_state=810159670),\n",
       " DecisionTreeClassifier(criterion='entropy', max_features='auto',\n",
       "                        random_state=639961153),\n",
       " DecisionTreeClassifier(criterion='entropy', max_features='auto',\n",
       "                        random_state=850232842),\n",
       " DecisionTreeClassifier(criterion='entropy', max_features='auto',\n",
       "                        random_state=1864238591),\n",
       " DecisionTreeClassifier(criterion='entropy', max_features='auto',\n",
       "                        random_state=471969879),\n",
       " DecisionTreeClassifier(criterion='entropy', max_features='auto',\n",
       "                        random_state=1034251302),\n",
       " DecisionTreeClassifier(criterion='entropy', max_features='auto',\n",
       "                        random_state=1749346045),\n",
       " DecisionTreeClassifier(criterion='entropy', max_features='auto',\n",
       "                        random_state=1169149886),\n",
       " DecisionTreeClassifier(criterion='entropy', max_features='auto',\n",
       "                        random_state=899103398),\n",
       " DecisionTreeClassifier(criterion='entropy', max_features='auto',\n",
       "                        random_state=2117739402),\n",
       " DecisionTreeClassifier(criterion='entropy', max_features='auto',\n",
       "                        random_state=149091421),\n",
       " DecisionTreeClassifier(criterion='entropy', max_features='auto',\n",
       "                        random_state=1200163700),\n",
       " DecisionTreeClassifier(criterion='entropy', max_features='auto',\n",
       "                        random_state=1073100486),\n",
       " DecisionTreeClassifier(criterion='entropy', max_features='auto',\n",
       "                        random_state=457066582),\n",
       " DecisionTreeClassifier(criterion='entropy', max_features='auto',\n",
       "                        random_state=1599155864),\n",
       " DecisionTreeClassifier(criterion='entropy', max_features='auto',\n",
       "                        random_state=95947930),\n",
       " DecisionTreeClassifier(criterion='entropy', max_features='auto',\n",
       "                        random_state=635628184),\n",
       " DecisionTreeClassifier(criterion='entropy', max_features='auto',\n",
       "                        random_state=1450136408),\n",
       " DecisionTreeClassifier(criterion='entropy', max_features='auto',\n",
       "                        random_state=1040055424),\n",
       " DecisionTreeClassifier(criterion='entropy', max_features='auto',\n",
       "                        random_state=1476595128),\n",
       " DecisionTreeClassifier(criterion='entropy', max_features='auto',\n",
       "                        random_state=1713039761),\n",
       " DecisionTreeClassifier(criterion='entropy', max_features='auto',\n",
       "                        random_state=2095349250),\n",
       " DecisionTreeClassifier(criterion='entropy', max_features='auto',\n",
       "                        random_state=1394947335),\n",
       " DecisionTreeClassifier(criterion='entropy', max_features='auto',\n",
       "                        random_state=31344037),\n",
       " DecisionTreeClassifier(criterion='entropy', max_features='auto',\n",
       "                        random_state=1907518928)]"
      ]
     },
     "execution_count": 20,
     "metadata": {},
     "output_type": "execute_result"
    }
   ],
   "source": [
    "rf.estimators_"
   ]
  },
  {
   "cell_type": "code",
   "execution_count": 21,
   "metadata": {},
   "outputs": [
    {
     "data": {
      "text/plain": [
       "array(['NO', 'YES'], dtype=object)"
      ]
     },
     "execution_count": 21,
     "metadata": {},
     "output_type": "execute_result"
    }
   ],
   "source": [
    "rf.classes_"
   ]
  },
  {
   "cell_type": "code",
   "execution_count": 22,
   "metadata": {},
   "outputs": [
    {
     "data": {
      "text/plain": [
       "2"
      ]
     },
     "execution_count": 22,
     "metadata": {},
     "output_type": "execute_result"
    }
   ],
   "source": [
    "rf.n_classes_"
   ]
  },
  {
   "cell_type": "code",
   "execution_count": 23,
   "metadata": {},
   "outputs": [
    {
     "data": {
      "text/plain": [
       "5"
      ]
     },
     "execution_count": 23,
     "metadata": {},
     "output_type": "execute_result"
    }
   ],
   "source": [
    "rf.n_features_"
   ]
  },
  {
   "cell_type": "code",
   "execution_count": 24,
   "metadata": {},
   "outputs": [
    {
     "data": {
      "text/plain": [
       "1"
      ]
     },
     "execution_count": 24,
     "metadata": {},
     "output_type": "execute_result"
    }
   ],
   "source": [
    "rf.n_outputs_"
   ]
  },
  {
   "cell_type": "code",
   "execution_count": 25,
   "metadata": {},
   "outputs": [
    {
     "data": {
      "text/plain": [
       "0.5233333333333333"
      ]
     },
     "execution_count": 25,
     "metadata": {},
     "output_type": "execute_result"
    }
   ],
   "source": [
    "rf.oob_score_"
   ]
  },
  {
   "cell_type": "code",
   "execution_count": 26,
   "metadata": {},
   "outputs": [
    {
     "data": {
      "text/plain": [
       "array(['YES', 'YES', 'YES', 'YES', 'NO', 'NO', 'YES', 'YES', 'YES', 'YES',\n",
       "       'YES', 'YES', 'YES', 'YES', 'YES', 'NO', 'NO', 'NO', 'NO', 'YES',\n",
       "       'NO', 'YES', 'NO', 'YES', 'NO', 'YES', 'NO', 'YES', 'YES', 'YES',\n",
       "       'YES', 'NO', 'NO', 'NO', 'YES', 'YES', 'YES', 'YES', 'NO', 'YES',\n",
       "       'YES', 'NO', 'NO', 'NO', 'NO', 'YES', 'YES', 'NO', 'NO', 'YES',\n",
       "       'YES', 'NO', 'NO', 'YES', 'NO', 'YES', 'YES', 'NO', 'NO', 'NO',\n",
       "       'NO', 'NO', 'YES', 'NO', 'NO', 'NO', 'YES', 'NO', 'NO', 'NO',\n",
       "       'YES', 'NO', 'YES', 'YES', 'NO', 'YES', 'NO', 'NO', 'NO', 'YES',\n",
       "       'NO', 'NO', 'YES', 'YES', 'YES', 'YES', 'YES', 'NO', 'YES', 'NO',\n",
       "       'NO', 'YES', 'NO', 'YES', 'YES', 'YES', 'NO', 'YES', 'YES', 'NO',\n",
       "       'NO', 'YES', 'NO', 'YES', 'NO', 'NO', 'YES', 'YES', 'YES', 'YES',\n",
       "       'YES', 'YES', 'YES', 'YES', 'NO', 'YES', 'NO', 'YES', 'NO', 'YES',\n",
       "       'YES', 'YES', 'NO', 'NO', 'NO', 'NO', 'YES', 'YES', 'YES', 'NO',\n",
       "       'YES', 'YES', 'NO', 'YES', 'NO', 'YES', 'NO', 'NO', 'NO', 'NO',\n",
       "       'YES', 'YES', 'YES', 'NO', 'YES', 'YES', 'YES', 'NO', 'NO', 'NO',\n",
       "       'NO', 'NO', 'NO', 'NO', 'YES', 'NO', 'YES', 'NO', 'NO', 'NO',\n",
       "       'YES', 'YES', 'YES', 'YES', 'NO', 'YES', 'YES', 'NO', 'NO', 'YES',\n",
       "       'NO', 'NO', 'YES', 'YES', 'NO', 'NO', 'NO', 'YES', 'YES', 'YES',\n",
       "       'NO', 'NO', 'YES', 'YES', 'YES', 'YES', 'YES', 'YES', 'NO', 'YES',\n",
       "       'NO', 'YES', 'YES', 'NO', 'NO', 'YES', 'NO', 'YES', 'YES', 'YES',\n",
       "       'YES', 'YES', 'YES', 'NO', 'NO', 'YES', 'YES', 'NO', 'NO', 'YES',\n",
       "       'YES', 'YES', 'NO', 'NO', 'NO', 'NO', 'NO', 'YES', 'NO', 'NO',\n",
       "       'NO', 'NO', 'NO', 'YES', 'YES', 'YES', 'NO', 'YES', 'YES', 'NO',\n",
       "       'YES', 'NO', 'NO', 'YES', 'NO', 'NO', 'NO', 'YES', 'YES', 'NO',\n",
       "       'YES', 'YES', 'YES', 'YES', 'NO', 'NO', 'NO', 'NO', 'YES', 'YES',\n",
       "       'NO', 'NO', 'YES', 'NO', 'NO', 'NO', 'NO', 'YES', 'YES', 'NO',\n",
       "       'NO', 'YES', 'NO', 'YES', 'NO', 'YES', 'YES', 'NO', 'YES', 'YES',\n",
       "       'NO', 'NO', 'YES', 'NO', 'NO', 'YES', 'YES', 'NO', 'NO', 'YES',\n",
       "       'NO', 'YES', 'NO', 'NO', 'YES', 'NO', 'NO', 'YES', 'YES', 'NO',\n",
       "       'YES', 'YES', 'YES', 'YES', 'NO', 'NO', 'NO', 'NO', 'YES', 'NO',\n",
       "       'NO', 'NO', 'NO', 'YES', 'YES', 'YES', 'NO', 'NO', 'NO', 'YES',\n",
       "       'YES', 'NO', 'NO', 'NO', 'NO', 'NO', 'NO', 'NO', 'YES', 'YES',\n",
       "       'YES', 'YES', 'YES', 'NO', 'NO', 'YES', 'YES', 'NO', 'YES', 'NO',\n",
       "       'NO', 'YES', 'NO', 'YES', 'YES', 'NO', 'NO', 'NO', 'NO', 'NO',\n",
       "       'YES', 'YES', 'YES', 'NO', 'YES', 'NO', 'YES', 'YES', 'NO', 'YES',\n",
       "       'NO', 'NO', 'YES', 'NO', 'YES', 'NO', 'NO', 'NO', 'YES', 'NO',\n",
       "       'YES', 'NO', 'YES', 'YES', 'NO', 'YES', 'NO', 'YES', 'NO', 'NO',\n",
       "       'YES', 'NO', 'NO', 'YES', 'YES', 'NO', 'NO', 'NO', 'NO', 'NO',\n",
       "       'NO', 'NO', 'NO', 'YES', 'NO', 'NO', 'YES', 'YES', 'YES', 'YES',\n",
       "       'NO', 'NO', 'NO', 'YES', 'YES', 'NO', 'NO', 'YES', 'YES', 'NO',\n",
       "       'NO', 'NO', 'NO', 'YES', 'YES', 'NO', 'NO', 'NO', 'NO', 'NO', 'NO',\n",
       "       'NO', 'NO', 'YES', 'YES', 'NO', 'NO', 'NO', 'NO', 'NO', 'NO', 'NO',\n",
       "       'YES', 'YES', 'YES', 'NO', 'YES', 'NO', 'YES', 'YES', 'NO', 'YES',\n",
       "       'YES', 'YES', 'YES', 'YES', 'YES', 'YES', 'NO', 'NO', 'YES', 'NO',\n",
       "       'NO', 'NO', 'NO', 'NO', 'NO', 'YES', 'YES', 'NO', 'YES', 'YES',\n",
       "       'NO', 'NO', 'YES', 'YES', 'YES', 'YES', 'YES', 'NO', 'YES', 'YES',\n",
       "       'NO', 'YES', 'YES', 'NO', 'NO', 'YES', 'YES', 'YES', 'NO', 'YES',\n",
       "       'YES', 'YES', 'NO', 'YES', 'YES', 'NO', 'NO', 'NO', 'YES', 'NO',\n",
       "       'NO', 'NO', 'YES', 'NO', 'YES', 'YES', 'YES', 'NO', 'NO', 'NO',\n",
       "       'YES', 'NO', 'YES', 'NO', 'YES', 'NO', 'YES', 'YES', 'YES', 'YES',\n",
       "       'YES', 'YES', 'YES', 'YES', 'YES', 'YES', 'NO', 'YES', 'YES',\n",
       "       'YES', 'YES', 'NO', 'NO', 'NO', 'YES', 'NO', 'YES', 'YES', 'YES',\n",
       "       'NO', 'NO', 'NO', 'NO', 'NO', 'NO', 'NO', 'NO', 'NO', 'YES', 'YES',\n",
       "       'NO', 'YES', 'YES', 'NO', 'NO', 'NO', 'NO', 'NO', 'NO', 'YES',\n",
       "       'NO', 'NO', 'YES', 'NO', 'NO', 'YES', 'YES', 'YES', 'YES', 'YES',\n",
       "       'YES', 'YES', 'NO', 'NO', 'NO', 'NO', 'YES', 'NO', 'NO', 'YES',\n",
       "       'NO', 'YES', 'YES', 'NO', 'NO', 'NO', 'YES', 'YES', 'YES', 'YES',\n",
       "       'NO', 'NO', 'YES', 'YES', 'YES', 'YES', 'NO', 'YES', 'YES', 'YES',\n",
       "       'YES', 'NO', 'YES', 'YES', 'NO', 'YES', 'YES', 'NO', 'YES', 'YES',\n",
       "       'NO', 'YES', 'YES', 'YES', 'YES', 'YES', 'NO', 'NO'], dtype=object)"
      ]
     },
     "execution_count": 26,
     "metadata": {},
     "output_type": "execute_result"
    }
   ],
   "source": [
    "rf.predict(x)"
   ]
  },
  {
   "cell_type": "code",
   "execution_count": 27,
   "metadata": {},
   "outputs": [],
   "source": [
    "fraud['rf_pred'] = rf.predict(x)"
   ]
  },
  {
   "cell_type": "code",
   "execution_count": 28,
   "metadata": {},
   "outputs": [
    {
     "data": {
      "text/plain": [
       "['rf_pred', 'TaxableIncome']"
      ]
     },
     "execution_count": 28,
     "metadata": {},
     "output_type": "execute_result"
    }
   ],
   "source": [
    "cols = ['rf_pred','TaxableIncome']\n",
    "cols"
   ]
  },
  {
   "cell_type": "code",
   "execution_count": 29,
   "metadata": {},
   "outputs": [
    {
     "data": {
      "text/html": [
       "<div>\n",
       "<style scoped>\n",
       "    .dataframe tbody tr th:only-of-type {\n",
       "        vertical-align: middle;\n",
       "    }\n",
       "\n",
       "    .dataframe tbody tr th {\n",
       "        vertical-align: top;\n",
       "    }\n",
       "\n",
       "    .dataframe thead th {\n",
       "        text-align: right;\n",
       "    }\n",
       "</style>\n",
       "<table border=\"1\" class=\"dataframe\">\n",
       "  <thead>\n",
       "    <tr style=\"text-align: right;\">\n",
       "      <th></th>\n",
       "      <th>rf_pred</th>\n",
       "      <th>TaxableIncome</th>\n",
       "    </tr>\n",
       "  </thead>\n",
       "  <tbody>\n",
       "    <tr>\n",
       "      <th>0</th>\n",
       "      <td>YES</td>\n",
       "      <td>Good</td>\n",
       "    </tr>\n",
       "    <tr>\n",
       "      <th>1</th>\n",
       "      <td>YES</td>\n",
       "      <td>Good</td>\n",
       "    </tr>\n",
       "    <tr>\n",
       "      <th>2</th>\n",
       "      <td>YES</td>\n",
       "      <td>Good</td>\n",
       "    </tr>\n",
       "    <tr>\n",
       "      <th>3</th>\n",
       "      <td>YES</td>\n",
       "      <td>Good</td>\n",
       "    </tr>\n",
       "    <tr>\n",
       "      <th>4</th>\n",
       "      <td>NO</td>\n",
       "      <td>Good</td>\n",
       "    </tr>\n",
       "  </tbody>\n",
       "</table>\n",
       "</div>"
      ],
      "text/plain": [
       "  rf_pred TaxableIncome\n",
       "0     YES          Good\n",
       "1     YES          Good\n",
       "2     YES          Good\n",
       "3     YES          Good\n",
       "4      NO          Good"
      ]
     },
     "execution_count": 29,
     "metadata": {},
     "output_type": "execute_result"
    }
   ],
   "source": [
    "\n",
    "fraud[cols].head()"
   ]
  },
  {
   "cell_type": "code",
   "execution_count": 30,
   "metadata": {},
   "outputs": [
    {
     "data": {
      "text/plain": [
       "0      Good\n",
       "1      Good\n",
       "2      Good\n",
       "3      Good\n",
       "4      Good\n",
       "       ... \n",
       "595    Good\n",
       "596    Good\n",
       "597    Good\n",
       "598    Good\n",
       "599    Good\n",
       "Name: TaxableIncome, Length: 600, dtype: category\n",
       "Categories (2, object): [Risky < Good]"
      ]
     },
     "execution_count": 30,
     "metadata": {},
     "output_type": "execute_result"
    }
   ],
   "source": [
    "fraud['TaxableIncome']"
   ]
  },
  {
   "cell_type": "code",
   "execution_count": 31,
   "metadata": {},
   "outputs": [
    {
     "data": {
      "text/plain": [
       "array([[  0, 237,   0, 239],\n",
       "       [  0,   0,   0,   0],\n",
       "       [  0,  61,   0,  63],\n",
       "       [  0,   0,   0,   0]], dtype=int64)"
      ]
     },
     "execution_count": 31,
     "metadata": {},
     "output_type": "execute_result"
    }
   ],
   "source": [
    "from sklearn.metrics import confusion_matrix\n",
    "confusion_matrix(fraud['TaxableIncome'],fraud['rf_pred'])"
   ]
  },
  {
   "cell_type": "code",
   "execution_count": 32,
   "metadata": {},
   "outputs": [
    {
     "data": {
      "text/html": [
       "<div>\n",
       "<style scoped>\n",
       "    .dataframe tbody tr th:only-of-type {\n",
       "        vertical-align: middle;\n",
       "    }\n",
       "\n",
       "    .dataframe tbody tr th {\n",
       "        vertical-align: top;\n",
       "    }\n",
       "\n",
       "    .dataframe thead th {\n",
       "        text-align: right;\n",
       "    }\n",
       "</style>\n",
       "<table border=\"1\" class=\"dataframe\">\n",
       "  <thead>\n",
       "    <tr style=\"text-align: right;\">\n",
       "      <th>rf_pred</th>\n",
       "      <th>NO</th>\n",
       "      <th>YES</th>\n",
       "    </tr>\n",
       "    <tr>\n",
       "      <th>TaxableIncome</th>\n",
       "      <th></th>\n",
       "      <th></th>\n",
       "    </tr>\n",
       "  </thead>\n",
       "  <tbody>\n",
       "    <tr>\n",
       "      <th>Risky</th>\n",
       "      <td>61</td>\n",
       "      <td>63</td>\n",
       "    </tr>\n",
       "    <tr>\n",
       "      <th>Good</th>\n",
       "      <td>237</td>\n",
       "      <td>239</td>\n",
       "    </tr>\n",
       "  </tbody>\n",
       "</table>\n",
       "</div>"
      ],
      "text/plain": [
       "rf_pred         NO  YES\n",
       "TaxableIncome          \n",
       "Risky           61   63\n",
       "Good           237  239"
      ]
     },
     "execution_count": 32,
     "metadata": {},
     "output_type": "execute_result"
    }
   ],
   "source": [
    "pd.crosstab(fraud['TaxableIncome'],fraud['rf_pred'])"
   ]
  },
  {
   "cell_type": "code",
   "execution_count": null,
   "metadata": {},
   "outputs": [],
   "source": []
  }
 ],
 "metadata": {
  "kernelspec": {
   "display_name": "Python 3",
   "language": "python",
   "name": "python3"
  },
  "language_info": {
   "codemirror_mode": {
    "name": "ipython",
    "version": 3
   },
   "file_extension": ".py",
   "mimetype": "text/x-python",
   "name": "python",
   "nbconvert_exporter": "python",
   "pygments_lexer": "ipython3",
   "version": "3.8.3"
  }
 },
 "nbformat": 4,
 "nbformat_minor": 4
}
